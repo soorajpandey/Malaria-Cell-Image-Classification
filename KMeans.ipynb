{
 "cells": [
  {
   "cell_type": "code",
   "execution_count": 1,
   "metadata": {},
   "outputs": [],
   "source": [
    "from sklearn.cluster import KMeans\n",
    "from sklearn import metrics\n",
    "import numpy as np\n",
    "import matplotlib.pyplot as plt"
   ]
  },
  {
   "cell_type": "code",
   "execution_count": 10,
   "metadata": {},
   "outputs": [
    {
     "name": "stdout",
     "output_type": "stream",
     "text": [
      "[[3.3  5.4 ]\n",
      " [1.95 3.85]\n",
      " [1.3  6.7 ]]\n"
     ]
    },
    {
     "data": {
      "image/png": "[encoded data removed]",
      "text/plain": [
       "<Figure size 432x288 with 1 Axes>"
      ]
     },
     "metadata": {
      "needs_background": "light"
     },
     "output_type": "display_data"
    }
   ],
   "source": [
    "p1 = np.array([3.3, 1.5, 1.3, 2.4])\n",
    "p2 = np.array([5.4, 4.2, 6.7, 3.5])\n",
    "\n",
    "plt.plot()\n",
    "P = np.array(list(zip(p1, p2))).reshape(len(p1), 2)\n",
    "colors = ['b', 'g', 'c']\n",
    "markers = ['o', 'v', 's']\n",
    "\n",
    "K = 3\n",
    "kmeans_model = KMeans(n_clusters=K).fit(P)\n",
    "\n",
    "print(kmeans_model.cluster_centers_)\n",
    "centers = np.array(kmeans_model.cluster_centers_)\n",
    "\n",
    "plt.plot()\n",
    "plt.title('K Means Centroid')\n",
    "\n",
    "for i, l in enumerate(kmeans_model.labels_):\n",
    "    plt.plot(p1[i], p2[i], color=colors[l], marker=markers[l], ls='None')\n",
    "    plt.xlim([0, 10])\n",
    "    plt.ylim([0, 10])\n",
    "\n",
    "plt.scatter(centers[:,0], centers[:,1], marker=\"*\", color='b')\n",
    "plt.show()"
   ]
  },
  {
   "cell_type": "code",
   "execution_count": null,
   "metadata": {},
   "outputs": [],
   "source": []
  },
  {
   "cell_type": "code",
   "execution_count": null,
   "metadata": {},
   "outputs": [],
   "source": []
  }
 ],
 "metadata": {
  "kernelspec": {
   "display_name": "Python 3",
   "language": "python",
   "name": "python3"
  },
  "language_info": {
   "codemirror_mode": {
    "name": "ipython",
    "version": 3
   },
   "file_extension": ".py",
   "mimetype": "text/x-python",
   "name": "python",
   "nbconvert_exporter": "python",
   "pygments_lexer": "ipython3",
   "version": "3.7.3"
  }
 },
 "nbformat": 4,
 "nbformat_minor": 2
}
